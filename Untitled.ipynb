{
 "cells": [
  {
   "cell_type": "code",
   "execution_count": null,
   "metadata": {},
   "outputs": [],
   "source": [
    "dict: {'2016': {'log_reg': .79,\n",
    "                'random_forest': .73,\n",
    "                'xgboost': .79},\n",
    "       '2017': {'log_reg': 0.7611,\n",
    "               'random_forest': 0.7313,\n",
    "               'xgboost': 0.7313},\n",
    "       '2018': {'log_reg': 0.8208,\n",
    "               'random_forest': 0.8358,\n",
    "               'xgboost': 0.8507},\n",
    "       '2019': {'log_reg': 0.761,\n",
    "               'random_forest': 0.776,\n",
    "               'xgboost': 0.776}}"
   ]
  },
  {
   "cell_type": "code",
   "execution_count": 1,
   "metadata": {
    "ExecuteTime": {
     "end_time": "2021-12-09T04:07:28.079160Z",
     "start_time": "2021-12-09T04:07:26.642928Z"
    }
   },
   "outputs": [],
   "source": [
    "import numpy as np\n",
    "import matplotlib.pyplot as plt\n",
    "import seaborn as sns"
   ]
  },
  {
   "cell_type": "code",
   "execution_count": 18,
   "metadata": {
    "ExecuteTime": {
     "end_time": "2021-12-09T04:18:38.611684Z",
     "start_time": "2021-12-09T04:18:38.433997Z"
    }
   },
   "outputs": [
    {
     "name": "stderr",
     "output_type": "stream",
     "text": [
      "/opt/anaconda3/envs/learn-env/lib/python3.8/site-packages/seaborn/_decorators.py:36: FutureWarning: Pass the following variables as keyword args: x, y. From version 0.12, the only valid positional argument will be `data`, and passing other arguments without an explicit keyword will result in an error or misinterpretation.\n",
      "  warnings.warn(\n"
     ]
    },
    {
     "data": {
      "image/png": "[encoded data removed]",
      "text/plain": [
       "<Figure size 432x288 with 1 Axes>"
      ]
     },
     "metadata": {
      "needs_background": "light"
     },
     "output_type": "display_data"
    }
   ],
   "source": [
    "log_reg = [.79, .79, .7611, .8208, .761]\n",
    "avg_log_reg = 100 * np.mean(log_reg)\n",
    "\n",
    "random_forest = [.73, .7313, .8358, .776]\n",
    "avg_random_forest = 100 * np.mean(random_forest)\n",
    "\n",
    "xgboost = [.79, .7313, .8507, .776]\n",
    "avg_xgboost = 100 * np.mean(xgboost)\n",
    "\n",
    "sns.barplot(['avg_log_reg', 'xgboost', 'random_forest'], [avg_log_reg, avg_xgboost, avg_random_forest]);"
   ]
  },
  {
   "cell_type": "code",
   "execution_count": null,
   "metadata": {},
   "outputs": [],
   "source": []
  }
 ],
 "metadata": {
  "kernelspec": {
   "display_name": "Python (learn-env)",
   "language": "python",
   "name": "learn-env"
  },
  "language_info": {
   "codemirror_mode": {
    "name": "ipython",
    "version": 3
   },
   "file_extension": ".py",
   "mimetype": "text/x-python",
   "name": "python",
   "nbconvert_exporter": "python",
   "pygments_lexer": "ipython3",
   "version": "3.8.5"
  }
 },
 "nbformat": 4,
 "nbformat_minor": 4
}
